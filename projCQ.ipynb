{
 "cells": [
  {
   "cell_type": "markdown",
   "metadata": {},
   "source": [
    "## Projeto Computação Quântica 2019.2\n",
    "Centro de Informática - UFPE\n",
    "\n",
    "Aluna: Débora Fortunato Dias (dfd2), Jerônimo"
   ]
  },
  {
   "cell_type": "markdown",
   "metadata": {},
   "source": [
    "### Algoritmo de Grover e Otimizações\n",
    "\n",
    " \n"
   ]
  },
  {
   "cell_type": "markdown",
   "metadata": {},
   "source": [
    "#### Roteiro\n",
    "\n",
    "- Algoritmo de Grover\n",
    "- Simulação I\n",
    "- Otimizações\n",
    "- Simulação II\n",
    "- Conclusão\n",
    "- Referências"
   ]
  },
  {
   "cell_type": "markdown",
   "metadata": {},
   "source": [
    "### Algoritmo de Grover\n",
    "\n",
    "Dado um espaço de N elementos, com M sendo o conjunto de soluções buscadas. Achar as soluções em $\\sqrt{\\frac{N}{M}}$ iterações.\n",
    "\n",
    "- Inicialização\n",
    "\n",
    "Todos qbits são iniciados em superposição, seus estados têm amplitude $\\sqrt{N}$.\n",
    "\n",
    "- Oráculo\n",
    "\n",
    "O oráculo $O$ marca o estado $x_{0}$ que satisfaz a condição $f(x_{0}) = 1$ através de uma mudança de fase. Todos os outros estados permanecem inalterados. A operação tem o efeito de inverter a amplitude do estado marcado.\n",
    "\n",
    "- Amplificação\n",
    "\n",
    "Essa fase realiza a amplificação de amplitudes pela inversão sobre a média. Como a amplitude do estado alvo foi invertida enquanto os outros estados mantiveram suas amplitudes originais (fase anterior), essa mudança faz com que a amplitude do estado alvo aumente enquanto os outros diminuem.\n",
    "\n",
    "- Medição\n",
    "\n",
    "Os qbits são colapsados em um valor clássico.\n"
   ]
  },
  {
   "cell_type": "markdown",
   "metadata": {},
   "source": [
    "##### Inicialização"
   ]
  },
  {
   "cell_type": "code",
   "execution_count": 285,
   "metadata": {},
   "outputs": [
    {
     "data": {
      "text/plain": [
       "<qiskit.circuit.instructionset.InstructionSet at 0x24e05c118c8>"
      ]
     },
     "execution_count": 285,
     "metadata": {},
     "output_type": "execute_result"
    }
   ],
   "source": [
    "N = 3\n",
    "\n",
    "q = QuantumRegister(4,\"q\") #3 registradores e 1 ancilla\n",
    "c = ClassicalRegister(3,\"c\")\n",
    "\n",
    "circuit = QuantumCircuit(q,c)\n",
    "\n",
    "circuit.h(q[0:3]) #hadamard"
   ]
  },
  {
   "cell_type": "markdown",
   "metadata": {},
   "source": [
    "##### Oráculo\n",
    "\n",
    "A ação do oráculo marca essencialmente a solução. Então, precisamos de algo que execute a operação abaixo.\n",
    "\n",
    "- x é o índice do registrador\n",
    "- O é um operador unitário\n",
    "- f(x) é uma função de x que inverte q caso ele seja solução\n",
    "- $\\oplus$ é a soma módulo 2\n",
    "\n",
    "O oráculo pode ser representado por:\n",
    "\n",
    " $$ \\left| x \\right\\rangle \\left| q \\right\\rangle \\xrightarrow{O} \\left| x \\right\\rangle \\left| q \\oplus f(x) \\right\\rangle $$\n",
    " \n",
    "\n",
    " Ou ainda mais simplificadamente:\n",
    " \n",
    " $$ \\left| x \\right\\rangle \\xrightarrow{O} (-1)^{f(x)} \\left| x \\right\\rangle $$"
   ]
  },
  {
   "cell_type": "code",
   "execution_count": 2,
   "metadata": {},
   "outputs": [
    {
     "ename": "NameError",
     "evalue": "name 'circuit' is not defined",
     "output_type": "error",
     "traceback": [
      "\u001b[1;31m---------------------------------------------------------------------------\u001b[0m",
      "\u001b[1;31mNameError\u001b[0m                                 Traceback (most recent call last)",
      "\u001b[1;32m<ipython-input-2-e7629db90eec>\u001b[0m in \u001b[0;36m<module>\u001b[1;34m\u001b[0m\n\u001b[1;32m----> 1\u001b[1;33m \u001b[0mcircuit\u001b[0m\u001b[1;33m.\u001b[0m\u001b[0mx\u001b[0m\u001b[1;33m(\u001b[0m\u001b[0mq\u001b[0m\u001b[1;33m[\u001b[0m\u001b[1;36m0\u001b[0m\u001b[1;33m]\u001b[0m\u001b[1;33m)\u001b[0m\u001b[1;33m\u001b[0m\u001b[1;33m\u001b[0m\u001b[0m\n\u001b[0m\u001b[0;32m      2\u001b[0m \u001b[0mcircuit\u001b[0m\u001b[1;33m.\u001b[0m\u001b[0mx\u001b[0m\u001b[1;33m(\u001b[0m\u001b[0mq\u001b[0m\u001b[1;33m[\u001b[0m\u001b[1;36m1\u001b[0m\u001b[1;33m]\u001b[0m\u001b[1;33m)\u001b[0m\u001b[1;33m\u001b[0m\u001b[1;33m\u001b[0m\u001b[0m\n\u001b[0;32m      3\u001b[0m \u001b[1;33m\u001b[0m\u001b[0m\n\u001b[0;32m      4\u001b[0m \u001b[0mcircuit\u001b[0m\u001b[1;33m.\u001b[0m\u001b[0mccx\u001b[0m\u001b[1;33m(\u001b[0m\u001b[0mq\u001b[0m\u001b[1;33m[\u001b[0m\u001b[1;36m0\u001b[0m\u001b[1;33m]\u001b[0m\u001b[1;33m,\u001b[0m \u001b[0mq\u001b[0m\u001b[1;33m[\u001b[0m\u001b[1;36m1\u001b[0m\u001b[1;33m]\u001b[0m\u001b[1;33m,\u001b[0m \u001b[0mq\u001b[0m\u001b[1;33m[\u001b[0m\u001b[1;36m3\u001b[0m\u001b[1;33m]\u001b[0m\u001b[1;33m)\u001b[0m \u001b[1;31m#marca 000 e 001\u001b[0m\u001b[1;33m\u001b[0m\u001b[1;33m\u001b[0m\u001b[0m\n\u001b[0;32m      5\u001b[0m \u001b[1;33m\u001b[0m\u001b[0m\n",
      "\u001b[1;31mNameError\u001b[0m: name 'circuit' is not defined"
     ]
    }
   ],
   "source": [
    "    circuit.x(q[0])\n",
    "    circuit.x(q[1])\n",
    "    \n",
    "    circuit.ccx(q[0], q[1], q[3]) #marca 000 e 001\n",
    "    \n",
    "    circuit.x(q[0])\n",
    "    circuit.x(q[1])"
   ]
  },
  {
   "cell_type": "markdown",
   "metadata": {},
   "source": [
    "##### Amplificação (Inversão sobre a média)\n",
    "\n",
    "Um passo importante do algoritmo é ampliar a probabilidade de observação. Esta etapa executa essencialmente estas operações principais:\n",
    "\n",
    "- Aplicar H a todos os qbits\n",
    "- Aplicar uma mudança de fase condicional\n",
    "- Aplique H a todos os qbits novamente"
   ]
  },
  {
   "cell_type": "code",
   "execution_count": 287,
   "metadata": {},
   "outputs": [
    {
     "data": {
      "text/plain": [
       "<qiskit.circuit.instructionset.InstructionSet at 0x24e05f4ed88>"
      ]
     },
     "execution_count": 287,
     "metadata": {},
     "output_type": "execute_result"
    }
   ],
   "source": [
    "    circuit.h(q[0:3])\n",
    "    circuit.x(q[0:3])\n",
    "    circuit.mct(q[0:3], q[3], None, mode='advanced') \n",
    "    circuit.x(q[0:3])\n",
    "    circuit.h(q[0:3])"
   ]
  },
  {
   "cell_type": "markdown",
   "metadata": {},
   "source": [
    "### Implementação"
   ]
  },
  {
   "cell_type": "markdown",
   "metadata": {},
   "source": [
    "### 3 Qbits (t = 1, 2) simulação local"
   ]
  },
  {
   "cell_type": "code",
   "execution_count": 17,
   "metadata": {},
   "outputs": [
    {
     "data": {
      "text/plain": [
       "<AccountProvider for IBMQ(hub='ibm-q', group='open', project='main')>"
      ]
     },
     "execution_count": 17,
     "metadata": {},
     "output_type": "execute_result"
    }
   ],
   "source": [
    "from qiskit import QuantumCircuit, QuantumRegister, ClassicalRegister, execute, Aer, IBMQ\n",
    "from qiskit.providers.ibmq import least_busy\n",
    "import math as m\n",
    "from qiskit.visualization import plot_histogram\n",
    "\n",
    "import getpass\n",
    "\n",
    "\n",
    "#MY_API_TOKEN = getpass.getpass(\"Seu token: \")\n",
    "MY_API_TOKEN = \"aea761906cf3a1b9574da60083f4915dde97272a5d9f837c924c4d3ad1ec2192c7db0b9c19212a61fe54cd27fd511ad33b8627c73c9c7cce735e3f69134ddcad\"\n",
    "IBMQ.enable_account(MY_API_TOKEN)"
   ]
  },
  {
   "cell_type": "code",
   "execution_count": 2,
   "metadata": {
    "scrolled": false
   },
   "outputs": [
    {
     "name": "stdout",
     "output_type": "stream",
     "text": [
      "2\n",
      "2\n"
     ]
    }
   ],
   "source": [
    "from qiskit import QuantumCircuit, QuantumRegister, ClassicalRegister, execute, Aer, IBMQ\n",
    "from qiskit.providers.ibmq import least_busy\n",
    "import math as m\n",
    "from qiskit.visualization import plot_histogram\n",
    "\n",
    "import getpass\n",
    "\n",
    "\n",
    "#MY_API_TOKEN = getpass.getpass(\"Seu token: \")\n",
    "#MY_API_TOKEN = \"f403bbd759ec5c7cb43989d2d655fe7ee5287fa0b073a6694c2aea98f07f55d2f6d43576e8d25daf8bc9c33504303ec97757f6f1652d9b6d716b216da4fea38a\"\n",
    "#IBMQ.enable_account(MY_API_TOKEN)\n",
    "    \n",
    "def Oraculo(circuit, q):\n",
    "    circuit.x(q[0])\n",
    "    circuit.x(q[1])\n",
    "    \n",
    "    circuit.mct(q[0:3], q[3], None, mode='advanced') #usar para uma solucao\n",
    "    #circuit.ccx(q[0], q[1], q[3]) #usar para duas solucoes\n",
    "    \n",
    "    circuit.x(q[0])\n",
    "    circuit.x(q[1])\n",
    "    \n",
    "    \n",
    "def InversaoSobreMedia(circuit, q):\n",
    "    circuit.h(q[0:3])\n",
    "    circuit.x(q[0:3])\n",
    "    circuit.mct(q[0:3], q[3], None, mode='advanced') \n",
    "    circuit.x(q[0:3])\n",
    "    circuit.h(q[0:3])\n",
    "\n",
    "q = QuantumRegister(4,\"q\")\n",
    "c = ClassicalRegister(3,\"c\")\n",
    "\n",
    "circuit = QuantumCircuit(q,c)\n",
    "\n",
    "circuit.h(q[0:3])\n",
    "circuit.x(q[3])\n",
    "circuit.h(q[3])\n",
    "\n",
    "circuit.barrier(q)\n",
    "\n",
    "N = 8\n",
    "M = 1\n",
    "\n",
    "iteracoes = m.floor(m.pi *(N/M)**(1/2) / 4 ) \n",
    "for i in range(iteracoes):#\n",
    "    Oraculo(circuit, q)\n",
    "    circuit.barrier(q)\n",
    "    InversaoSobreMedia(circuit,q)\n",
    "    circuit.barrier(q)\n",
    "    print(iteracoes)\n",
    "    \n",
    "    \n",
    "#circuit.barrier(q)\n"
   ]
  },
  {
   "cell_type": "markdown",
   "metadata": {},
   "source": [
    "### Simulação I"
   ]
  },
  {
   "cell_type": "code",
   "execution_count": 3,
   "metadata": {},
   "outputs": [
    {
     "data": {
      "image/png": "[encoded data removed]",
      "text/plain": [
       "<Figure size 504x360 with 1 Axes>"
      ]
     },
     "execution_count": 3,
     "metadata": {},
     "output_type": "execute_result"
    }
   ],
   "source": [
    "circuit.measure(q[0:3], c[0:3])\n",
    "\n",
    "backend = Aer.get_backend('qasm_simulator')\n",
    "\n",
    "job = execute(circuit, backend, shots=1024)\n",
    "result = job.result()\n",
    "counts = result.get_counts(circuit)\n",
    "\n",
    "\n",
    "plot_histogram(counts)"
   ]
  },
  {
   "cell_type": "code",
   "execution_count": 18,
   "metadata": {
    "scrolled": true
   },
   "outputs": [
    {
     "name": "stdout",
     "output_type": "stream",
     "text": [
      "least busy backend:  ibmqx2\n"
     ]
    }
   ],
   "source": [
    "AccountProvider = IBMQ.get_provider(hub='ibm-q', group='open', project='main')\n",
    "AccountProvider.backends()\n",
    "\n",
    "#filters=lambda x: x.configuration().n_qubits <= 5 and not x.configuration().simulator and x.status().operational==True\n",
    "backend = least_busy(AccountProvider.backends(operational=True))\n",
    "\n",
    "backend = AccountProvider.get_backend(\"ibmqx2\")\n",
    "#print(backend.configuration())\n",
    "print(\"least busy backend: \", backend)"
   ]
  },
  {
   "cell_type": "code",
   "execution_count": 32,
   "metadata": {},
   "outputs": [
    {
     "ename": "ImportError",
     "evalue": "The latex and latex_source drawers need pylatexenc installed. Run \"pip install pylatexenc\" before using the latex or latex_source drawers.",
     "output_type": "error",
     "traceback": [
      "\u001b[1;31m---------------------------------------------------------------------------\u001b[0m",
      "\u001b[1;31mImportError\u001b[0m                               Traceback (most recent call last)",
      "\u001b[1;32m<ipython-input-32-1729f524d306>\u001b[0m in \u001b[0;36m<module>\u001b[1;34m\u001b[0m\n\u001b[0;32m      6\u001b[0m \u001b[0mcircuit\u001b[0m\u001b[1;33m.\u001b[0m\u001b[0mh\u001b[0m\u001b[1;33m(\u001b[0m\u001b[0mq\u001b[0m\u001b[1;33m[\u001b[0m\u001b[1;36m0\u001b[0m\u001b[1;33m:\u001b[0m\u001b[1;36m2\u001b[0m\u001b[1;33m]\u001b[0m\u001b[1;33m)\u001b[0m\u001b[1;33m\u001b[0m\u001b[1;33m\u001b[0m\u001b[0m\n\u001b[0;32m      7\u001b[0m \u001b[1;33m\u001b[0m\u001b[0m\n\u001b[1;32m----> 8\u001b[1;33m \u001b[0mcircuit\u001b[0m\u001b[1;33m.\u001b[0m\u001b[0mdraw\u001b[0m\u001b[1;33m(\u001b[0m\u001b[0moutput\u001b[0m\u001b[1;33m=\u001b[0m\u001b[1;34m'latex'\u001b[0m\u001b[1;33m)\u001b[0m\u001b[1;33m\u001b[0m\u001b[1;33m\u001b[0m\u001b[0m\n\u001b[0m",
      "\u001b[1;32m~\\Anaconda3\\envs\\ProjCQ\\lib\\site-packages\\qiskit\\circuit\\quantumcircuit.py\u001b[0m in \u001b[0;36mdraw\u001b[1;34m(self, scale, filename, style, output, interactive, line_length, plot_barriers, reverse_bits, justify, vertical_compression, idle_wires, with_layout, fold, ax)\u001b[0m\n\u001b[0;32m    796\u001b[0m                               \u001b[0mwith_layout\u001b[0m\u001b[1;33m=\u001b[0m\u001b[0mwith_layout\u001b[0m\u001b[1;33m,\u001b[0m\u001b[1;33m\u001b[0m\u001b[1;33m\u001b[0m\u001b[0m\n\u001b[0;32m    797\u001b[0m                               \u001b[0mfold\u001b[0m\u001b[1;33m=\u001b[0m\u001b[0mfold\u001b[0m\u001b[1;33m,\u001b[0m\u001b[1;33m\u001b[0m\u001b[1;33m\u001b[0m\u001b[0m\n\u001b[1;32m--> 798\u001b[1;33m                               ax=ax)\n\u001b[0m\u001b[0;32m    799\u001b[0m \u001b[1;33m\u001b[0m\u001b[0m\n\u001b[0;32m    800\u001b[0m     \u001b[1;32mdef\u001b[0m \u001b[0msize\u001b[0m\u001b[1;33m(\u001b[0m\u001b[0mself\u001b[0m\u001b[1;33m)\u001b[0m\u001b[1;33m:\u001b[0m\u001b[1;33m\u001b[0m\u001b[1;33m\u001b[0m\u001b[0m\n",
      "\u001b[1;32m~\\Anaconda3\\envs\\ProjCQ\\lib\\site-packages\\qiskit\\visualization\\circuit_visualization.py\u001b[0m in \u001b[0;36mcircuit_drawer\u001b[1;34m(circuit, scale, filename, style, output, interactive, line_length, plot_barriers, reverse_bits, justify, vertical_compression, idle_wires, with_layout, fold, ax)\u001b[0m\n\u001b[0;32m    279\u001b[0m                                       \u001b[0mjustify\u001b[0m\u001b[1;33m=\u001b[0m\u001b[0mjustify\u001b[0m\u001b[1;33m,\u001b[0m\u001b[1;33m\u001b[0m\u001b[1;33m\u001b[0m\u001b[0m\n\u001b[0;32m    280\u001b[0m                                       \u001b[0midle_wires\u001b[0m\u001b[1;33m=\u001b[0m\u001b[0midle_wires\u001b[0m\u001b[1;33m,\u001b[0m\u001b[1;33m\u001b[0m\u001b[1;33m\u001b[0m\u001b[0m\n\u001b[1;32m--> 281\u001b[1;33m                                       with_layout=with_layout)\n\u001b[0m\u001b[0;32m    282\u001b[0m     \u001b[1;32melif\u001b[0m \u001b[0moutput\u001b[0m \u001b[1;33m==\u001b[0m \u001b[1;34m'latex_source'\u001b[0m\u001b[1;33m:\u001b[0m\u001b[1;33m\u001b[0m\u001b[1;33m\u001b[0m\u001b[0m\n\u001b[0;32m    283\u001b[0m         return _generate_latex_source(circuit,\n",
      "\u001b[1;32m~\\Anaconda3\\envs\\ProjCQ\\lib\\site-packages\\qiskit\\visualization\\circuit_visualization.py\u001b[0m in \u001b[0;36m_latex_circuit_drawer\u001b[1;34m(circuit, scale, filename, style, plot_barriers, reverse_bits, justify, idle_wires, with_layout)\u001b[0m\n\u001b[0;32m    479\u001b[0m                                \u001b[0mplot_barriers\u001b[0m\u001b[1;33m=\u001b[0m\u001b[0mplot_barriers\u001b[0m\u001b[1;33m,\u001b[0m\u001b[1;33m\u001b[0m\u001b[1;33m\u001b[0m\u001b[0m\n\u001b[0;32m    480\u001b[0m                                \u001b[0mreverse_bits\u001b[0m\u001b[1;33m=\u001b[0m\u001b[0mreverse_bits\u001b[0m\u001b[1;33m,\u001b[0m \u001b[0mjustify\u001b[0m\u001b[1;33m=\u001b[0m\u001b[0mjustify\u001b[0m\u001b[1;33m,\u001b[0m\u001b[1;33m\u001b[0m\u001b[1;33m\u001b[0m\u001b[0m\n\u001b[1;32m--> 481\u001b[1;33m                                idle_wires=idle_wires, with_layout=with_layout)\n\u001b[0m\u001b[0;32m    482\u001b[0m         \u001b[1;32mtry\u001b[0m\u001b[1;33m:\u001b[0m\u001b[1;33m\u001b[0m\u001b[1;33m\u001b[0m\u001b[0m\n\u001b[0;32m    483\u001b[0m \u001b[1;33m\u001b[0m\u001b[0m\n",
      "\u001b[1;32m~\\Anaconda3\\envs\\ProjCQ\\lib\\site-packages\\qiskit\\visualization\\circuit_visualization.py\u001b[0m in \u001b[0;36m_generate_latex_source\u001b[1;34m(circuit, filename, scale, style, reverse_bits, plot_barriers, justify, idle_wires, with_layout)\u001b[0m\n\u001b[0;32m    556\u001b[0m     qcimg = _latex.QCircuitImage(qregs, cregs, ops, scale, style=style,\n\u001b[0;32m    557\u001b[0m                                  \u001b[0mplot_barriers\u001b[0m\u001b[1;33m=\u001b[0m\u001b[0mplot_barriers\u001b[0m\u001b[1;33m,\u001b[0m\u001b[1;33m\u001b[0m\u001b[1;33m\u001b[0m\u001b[0m\n\u001b[1;32m--> 558\u001b[1;33m                                  reverse_bits=reverse_bits, layout=layout)\n\u001b[0m\u001b[0;32m    559\u001b[0m     \u001b[0mlatex\u001b[0m \u001b[1;33m=\u001b[0m \u001b[0mqcimg\u001b[0m\u001b[1;33m.\u001b[0m\u001b[0mlatex\u001b[0m\u001b[1;33m(\u001b[0m\u001b[1;33m)\u001b[0m\u001b[1;33m\u001b[0m\u001b[1;33m\u001b[0m\u001b[0m\n\u001b[0;32m    560\u001b[0m     \u001b[1;32mif\u001b[0m \u001b[0mfilename\u001b[0m\u001b[1;33m:\u001b[0m\u001b[1;33m\u001b[0m\u001b[1;33m\u001b[0m\u001b[0m\n",
      "\u001b[1;32m~\\Anaconda3\\envs\\ProjCQ\\lib\\site-packages\\qiskit\\visualization\\latex.py\u001b[0m in \u001b[0;36m__init__\u001b[1;34m(self, qubits, clbits, ops, scale, style, plot_barriers, reverse_bits, layout)\u001b[0m\n\u001b[0;32m     65\u001b[0m         \"\"\"\n\u001b[0;32m     66\u001b[0m         \u001b[1;32mif\u001b[0m \u001b[1;32mnot\u001b[0m \u001b[0mHAS_PYLATEX\u001b[0m\u001b[1;33m:\u001b[0m\u001b[1;33m\u001b[0m\u001b[1;33m\u001b[0m\u001b[0m\n\u001b[1;32m---> 67\u001b[1;33m             raise ImportError('The latex and latex_source drawers need '\n\u001b[0m\u001b[0;32m     68\u001b[0m                               \u001b[1;34m'pylatexenc installed. Run \"pip install '\u001b[0m\u001b[1;33m\u001b[0m\u001b[1;33m\u001b[0m\u001b[0m\n\u001b[0;32m     69\u001b[0m                               \u001b[1;34m'pylatexenc\" before using the latex or '\u001b[0m\u001b[1;33m\u001b[0m\u001b[1;33m\u001b[0m\u001b[0m\n",
      "\u001b[1;31mImportError\u001b[0m: The latex and latex_source drawers need pylatexenc installed. Run \"pip install pylatexenc\" before using the latex or latex_source drawers."
     ]
    }
   ],
   "source": [
    "q = QuantumRegister(3,\"q\")\n",
    "c = ClassicalRegister(3,\"c\")\n",
    "\n",
    "circuit = QuantumCircuit(q,c)\n",
    "\n",
    "circuit.h(q[0:2])\n",
    "\n",
    "circuit.draw(output='latex')"
   ]
  },
  {
   "cell_type": "code",
   "execution_count": 34,
   "metadata": {},
   "outputs": [
    {
     "name": "stdout",
     "output_type": "stream",
     "text": [
      "least busy backend:  ibmq_16_melbourne\n"
     ]
    },
    {
     "data": {
      "image/png": "[encoded data removed]",
      "text/plain": [
       "<Figure size 504x360 with 1 Axes>"
      ]
     },
     "execution_count": 34,
     "metadata": {},
     "output_type": "execute_result"
    }
   ],
   "source": [
    "\n",
    "job = execute(circuit, backend, shots = 1024)\n",
    "\n",
    "result = job.result()\n",
    "counts = result.get_counts(circuit)\n",
    "plot_histogram(counts, title='Índice Buscado')"
   ]
  },
  {
   "cell_type": "code",
   "execution_count": 39,
   "metadata": {},
   "outputs": [],
   "source": [
    "\n",
    "#circuit.draw(output='mpl') "
   ]
  },
  {
   "cell_type": "markdown",
   "metadata": {},
   "source": [
    "### 3 Qbits (t = 1,2,3) simulação/IBM"
   ]
  },
  {
   "cell_type": "code",
   "execution_count": 207,
   "metadata": {
    "scrolled": true
   },
   "outputs": [
    {
     "name": "stdout",
     "output_type": "stream",
     "text": [
      "1\n"
     ]
    },
    {
     "data": {
      "text/plain": [
       "<qiskit.circuit.instructionset.InstructionSet at 0x11962fade08>"
      ]
     },
     "execution_count": 207,
     "metadata": {},
     "output_type": "execute_result"
    }
   ],
   "source": [
    "#initialization\n",
    "import matplotlib.pyplot as plt\n",
    "%matplotlib inline\n",
    "import numpy as np\n",
    "import math as m\n",
    "\n",
    "# importing Qiskit\n",
    "from qiskit import IBMQ, BasicAer\n",
    "from qiskit.providers.ibmq import least_busy\n",
    "from qiskit import QuantumCircuit, ClassicalRegister, QuantumRegister, execute\n",
    "from qiskit.tools.visualization import plot_histogram\n",
    "from qiskit.tools.monitor import job_monitor\n",
    "from qiskit.circuit import Gate\n",
    "from qiskit.providers.aer import QasmSimulator\n",
    "\n",
    "def oraculo(qc, qr):\n",
    "    \n",
    "    \n",
    "    \"\"\"#11 (+ - pauli x)\n",
    "    #qc.x(qr[1])\n",
    "\n",
    "    qc.cx(qr[0], qr[1])\n",
    "\n",
    "    #qc.x(qr[1]) \"\"\"\n",
    "    \n",
    "    \n",
    "    \n",
    "    \"\"\"qc.cz(qr[2],qr[0]) #duas solucoes ao msm tempo\n",
    "    qc.cz(qr[2],qr[1]) #duas solucoes ao msm tempo\"\"\"\n",
    "    \n",
    "    \n",
    "    #100\n",
    "    qc.x(qr[1])\n",
    "    qc.x(qr[2])\n",
    "\n",
    "    qc.h(qr[2])\n",
    "    qc.ccx(qr[0], qr[1], qr[2])\n",
    "    qc.h(qr[2])\n",
    "\n",
    "    qc.x(qr[1])\n",
    "    qc.x(qr[2])\n",
    "    \n",
    "    \n",
    "    \n",
    "    #001\n",
    "    qc.x(qr[0])\n",
    "    qc.x(qr[1])\n",
    "\n",
    "    qc.h(qr[2])\n",
    "    qc.ccx(qr[0], qr[1], qr[2])\n",
    "    qc.h(qr[2])\n",
    "\n",
    "    qc.x(qr[0])\n",
    "    qc.x(qr[1])\n",
    "    \n",
    "    \n",
    "    \"\"\"#110\n",
    "    qc.x(qr[0])\n",
    "\n",
    "    qc.h(qr[2])\n",
    "    qc.ccx(qr[0], qr[1], qr[2])\n",
    "    qc.h(qr[2])\n",
    "\n",
    "    qc.x(qr[0])\"\"\"\n",
    "    \n",
    "    \n",
    "    \n",
    "    \"\"\"#101\n",
    "    qc.x(qr[1])\n",
    "\n",
    "    qc.h(qr[2])\n",
    "    qc.ccx(qr[0], qr[1], qr[2])\n",
    "    qc.h(qr[2])\n",
    "\n",
    "    qc.x(qr[1])\n",
    "    \"\"\"\n",
    "\n",
    "    #111\n",
    "    qc.h(qr[2])\n",
    "    qc.ccx(qr[0], qr[1], qr[2])\n",
    "    qc.h(qr[2]) \n",
    "    \n",
    "     \n",
    "    \n",
    "\n",
    "\n",
    "def nCZ(circuit, controls, target):\n",
    "    if (len(controls) > 4):\n",
    "        raise ValueError('Nao implementado')\n",
    "    elif (len(controls) == 1):\n",
    "        circuit.h(target)\n",
    "        circuit.cx(controls[0], target)\n",
    "        circuit.h(target)\n",
    "    elif (len(controls) == 2):\n",
    "        circuit.h(target)\n",
    "        circuit.ccx(controls[0], controls[1], target)\n",
    "        circuit.h(target)\n",
    "    elif (len(controls) == 3):       \n",
    "        circuit.h(target)\n",
    "        circuit.cccx(controls[0], controls[1], controls[2], target)\n",
    "        circuit.h(target)\n",
    "                \n",
    "\n",
    "def inversao(qc, qr, n):\n",
    "    qc.h(qr)\n",
    "    qc.x(qr)\n",
    "    \n",
    "    nCZ(qc, [qr[j] for j in range(n-1)], qr[n-1])\n",
    "    \n",
    "    qc.x(qr)\n",
    "    qc.h(qr)\n",
    "\n",
    "\n",
    "pi = m.pi\n",
    "n = 3\n",
    "N = 2**n\n",
    "M = 3\n",
    "\n",
    "qr = QuantumRegister(n)\n",
    "cr = ClassicalRegister(n)\n",
    "\n",
    "groverCircuit = QuantumCircuit(qr,cr)\n",
    "groverCircuit.h(qr)\n",
    "\n",
    "iteracoes = m.floor(m.pi *(N/M)**(1/2) / 4 ) \n",
    "\n",
    "for i in range(3):\n",
    "    oraculo(groverCircuit, qr)\n",
    "    groverCircuit.barrier()\n",
    "    inversao(groverCircuit, qr, n)\n",
    "    groverCircuit.barrier()\n",
    "    \n",
    "print(iteracoes)\n",
    "\n",
    "groverCircuit.measure(qr,cr)\n",
    "\n",
    "\n"
   ]
  },
  {
   "cell_type": "code",
   "execution_count": 208,
   "metadata": {
    "scrolled": false
   },
   "outputs": [
    {
     "name": "stdout",
     "output_type": "stream",
     "text": [
      "{'111': 2699, '100': 2669, '000': 18, '101': 18, '001': 2750, '110': 16, '011': 13, '010': 9}\n",
      "0.11188292503356934\n"
     ]
    },
    {
     "data": {
      "image/png": "[encoded data removed]",
      "text/plain": [
       "<Figure size 504x360 with 1 Axes>"
      ]
     },
     "execution_count": 208,
     "metadata": {},
     "output_type": "execute_result"
    }
   ],
   "source": [
    "backend = BasicAer.get_backend('qasm_simulator')\n",
    "\n",
    "result = execute(groverCircuit, backend, shots = 8192,  optimization_level=3).result()\n",
    "counts = result.get_counts(0)\n",
    "print(counts)\n",
    "print(result.time_taken)\n",
    "\n",
    "plot_histogram(counts)"
   ]
  },
  {
   "cell_type": "code",
   "execution_count": 30,
   "metadata": {},
   "outputs": [
    {
     "name": "stdout",
     "output_type": "stream",
     "text": [
      "0.9902343749999999\n"
     ]
    }
   ],
   "source": [
    "N = 8\n",
    "M = 3\n",
    "conta = m.sin( (2*3+1)*m.asin( (M/N)**(1/2) ) )**2\n",
    "print(conta)"
   ]
  },
  {
   "cell_type": "code",
   "execution_count": 13,
   "metadata": {
    "scrolled": false
   },
   "outputs": [
    {
     "name": "stdout",
     "output_type": "stream",
     "text": [
      "least busy backend:  ibmq_16_melbourne\n",
      "Job Status: job has successfully run\n",
      "{'100': 152, '011': 116, '111': 98, '010': 146, '101': 108, '000': 142, '110': 135, '001': 127}\n"
     ]
    },
    {
     "data": {
      "image/png": "[encoded data removed]",
      "text/plain": [
       "<Figure size 504x360 with 1 Axes>"
      ]
     },
     "execution_count": 13,
     "metadata": {},
     "output_type": "execute_result"
    }
   ],
   "source": [
    "from qiskit.tools.monitor import job_monitor\n",
    "\n",
    "\n",
    "IBMQ.get_provider(hub='ibm-q')\n",
    "AccountProvider = IBMQ.get_provider(hub='ibm-q', group='open', project='main')\n",
    "AccountProvider.backends()\n",
    "\n",
    "#filters=lambda x: x.configuration().n_qubits <= 5 and not x.configuration().simulator and x.status().operational==True\n",
    "#backend = least_busy(AccountProvider.backends(operational=True))\n",
    "backend = AccountProvider.get_backend(\"ibmq_16_melbourne\")\n",
    "print(\"least busy backend: \", backend)\n",
    "\n",
    "\n",
    "shots = 1024\n",
    "job = execute(groverCircuit, backend=backend, shots=shots, optimization_level=3)\n",
    "\n",
    "job_monitor(job, interval = 2)\n",
    "\n",
    "results = job.result()\n",
    "answer = results.get_counts(groverCircuit)\n",
    "print(answer)\n",
    "#print(results.time_taken)\n",
    "\n",
    "plot_histogram(answer)\n",
    "\n"
   ]
  },
  {
   "cell_type": "code",
   "execution_count": 410,
   "metadata": {},
   "outputs": [
    {
     "name": "stdout",
     "output_type": "stream",
     "text": [
      "least busy backend:  ibmq_ourense\n"
     ]
    }
   ],
   "source": [
    "backend = AccountProvider.get_backend(\"ibmq_ourense\")\n",
    "print(\"least busy backend: \", backend)"
   ]
  },
  {
   "cell_type": "markdown",
   "metadata": {},
   "source": [
    "### BBHT\n",
    "\n"
   ]
  },
  {
   "cell_type": "code",
   "execution_count": 424,
   "metadata": {},
   "outputs": [
    {
     "name": "stdout",
     "output_type": "stream",
     "text": [
      "====== iteracao :  1 ======\n",
      "lista de k :  [1]\n",
      "iteracoes de grover :  1\n",
      "111  - ok\n",
      "{'111': 1}\n",
      "tempo gasto:  3.2235443592071533\n"
     ]
    }
   ],
   "source": [
    "#initialization\n",
    "import matplotlib.pyplot as plt\n",
    "%matplotlib inline\n",
    "import numpy as np\n",
    "import math \n",
    "import random\n",
    "\n",
    "# importing Qiskit\n",
    "from qiskit import IBMQ, BasicAer\n",
    "from qiskit.providers.ibmq import least_busy\n",
    "from qiskit import QuantumCircuit, ClassicalRegister, QuantumRegister, execute\n",
    "from qiskit.tools.visualization import plot_histogram\n",
    "from qiskit.tools.monitor import job_monitor\n",
    "from qiskit.circuit import Gate\n",
    "from qiskit.providers.aer import QasmSimulator\n",
    "\n",
    "def oraculo(qc, qr):\n",
    "    \n",
    "    \"\"\"#100\n",
    "    qc.x(qr[1])\n",
    "    qc.x(qr[2])\n",
    "\n",
    "    qc.h(qr[2])\n",
    "    qc.ccx(qr[0], qr[1], qr[2])\n",
    "    qc.h(qr[2])\n",
    "\n",
    "    qc.x(qr[1])\n",
    "    qc.x(qr[2])\"\"\"\n",
    "    \n",
    "    \n",
    "    \n",
    "    \"\"\"#001\n",
    "    qc.x(qr[0])\n",
    "    qc.x(qr[1])\n",
    "\n",
    "    qc.h(qr[2])\n",
    "    qc.ccx(qr[0], qr[1], qr[2])\n",
    "    qc.h(qr[2])\n",
    "\n",
    "    qc.x(qr[0])\n",
    "    qc.x(qr[1])\n",
    "    \"\"\"\n",
    "    \n",
    "    \"\"\"#110\n",
    "    qc.x(qr[0])\n",
    "\n",
    "    qc.h(qr[2])\n",
    "    qc.ccx(qr[0], qr[1], qr[2])\n",
    "    qc.h(qr[2])\n",
    "\n",
    "    qc.x(qr[0])\n",
    "    \n",
    "    \n",
    "    \n",
    "    \n",
    "    #101\n",
    "    qc.x(qr[1])\n",
    "\n",
    "    qc.h(qr[2])\n",
    "    qc.ccx(qr[0], qr[1], qr[2])\n",
    "    qc.h(qr[2])\n",
    "\n",
    "    qc.x(qr[1])\"\"\"\n",
    "    \n",
    "    \n",
    "    \n",
    "\n",
    "    #111\n",
    "    qc.h(qr[2])\n",
    "    qc.ccx(qr[0], qr[1], qr[2])\n",
    "    qc.h(qr[2])\n",
    "    \n",
    "\n",
    "def nCZ(circuit, controls, target):\n",
    "    if (len(controls) > 4):\n",
    "        raise ValueError('Nao implementado')\n",
    "    elif (len(controls) == 1):\n",
    "        circuit.h(target)\n",
    "        circuit.cx(controls[0], target)\n",
    "        circuit.h(target)\n",
    "    elif (len(controls) == 2):\n",
    "        circuit.h(target)\n",
    "        circuit.ccx(controls[0], controls[1], target)\n",
    "        circuit.h(target)\n",
    "    elif (len(controls) == 3):       \n",
    "        circuit.h(target)\n",
    "        circuit.cccx(controls[0], controls[1], controls[2], target)\n",
    "        circuit.h(target)\n",
    "                \n",
    "\n",
    "def inversao(qc, qr, n):\n",
    "    qc.h(qr)\n",
    "    qc.x(qr)\n",
    "    \n",
    "    nCZ(qc, [qr[j] for j in range(n-1)], qr[n-1])\n",
    "    \n",
    "    qc.x(qr)\n",
    "    qc.h(qr)\n",
    "    \n",
    "def groverIteracao(groverCircuit, qr, n):\n",
    "    oraculo(groverCircuit, qr)\n",
    "    inversao(groverCircuit, qr, n)\n",
    "\n",
    "\n",
    "pi = math.pi\n",
    "n = 3\n",
    "N = 2**n\n",
    "m = 1\n",
    "lmb = 1.34\n",
    "upperBound = math.floor((N)**(1/2))\n",
    "\n",
    "qr = QuantumRegister(n, 'q')\n",
    "cr = ClassicalRegister(n, 'c')\n",
    "\n",
    "groverCircuit = QuantumCircuit(qr,cr)\n",
    "groverCircuit.h(qr)\n",
    "\n",
    "contador = 1\n",
    "\n",
    "\n",
    "IBMQ.get_provider(hub='ibm-q')\n",
    "AccountProvider = IBMQ.get_provider(hub='ibm-q', group='open', project='main')\n",
    "\n",
    "#backend = BasicAer.get_backend('qasm_simulator')\n",
    "backend = AccountProvider.get_backend(\"ibmq_ourense\")\n",
    "achou = 0\n",
    "\n",
    "while (achou == 0):\n",
    "    print(\"====== iteracao : \", contador, \"======\")\n",
    "    kLista = list(range(1, math.floor(m+1))) \n",
    "    print(\"lista de k : \", kLista)\n",
    "    kAleatorio = random.choice(kLista)\n",
    "    print(\"iteracoes de grover : \", kAleatorio)\n",
    "    \n",
    "    for i in range(kAleatorio):\n",
    "        groverIteracao(groverCircuit, qr, n)\n",
    "    \n",
    "    groverCircuit.measure(qr,cr) \n",
    "    result = execute(groverCircuit, backend, shots = 1,  optimization_level=3).result()\n",
    "    counts = result.get_counts()\n",
    "    \n",
    "    for j in counts:\n",
    "        if (j in ['111']):\n",
    "            print(j, \" - ok\")\n",
    "            achou = 1\n",
    "        else:\n",
    "            print(j, \" - nope\")\n",
    "            m = (m*lmb)\n",
    "            print(m)\n",
    "    \n",
    "    print(counts)\n",
    "    contador = contador + 1\n",
    "    \n",
    "    \n",
    "    \"\"\"\n",
    "    for j in counts:\n",
    "        contador.append(counts[j])\n",
    "        if (counts[j] > 150):\n",
    "            print(\"achou : \", j)\n",
    "            #break\n",
    "        else:\n",
    "            m = m*lmb\n",
    "    \n",
    "    if (counts['111'] > 150):\n",
    "        print (\"ok\")\n",
    "        break\n",
    "    else:\n",
    "        m = m*lmb\"\"\"\n",
    "        \n",
    "\n",
    "        \n",
    "plot_histogram(counts)\n",
    "    \n",
    "print(\"tempo gasto: \", result.time_taken)\n",
    "\n"
   ]
  },
  {
   "cell_type": "code",
   "execution_count": 406,
   "metadata": {},
   "outputs": [
    {
     "data": {
      "image/png": "[encoded data removed]",
      "text/plain": [
       "<Figure size 504x360 with 1 Axes>"
      ]
     },
     "execution_count": 406,
     "metadata": {},
     "output_type": "execute_result"
    }
   ],
   "source": [
    "plot_histogram(counts)"
   ]
  },
  {
   "cell_type": "markdown",
   "metadata": {},
   "source": [
    "### 2 Qbit Grover (t = 1, 2) Simulação/IBM BOM"
   ]
  },
  {
   "cell_type": "code",
   "execution_count": 425,
   "metadata": {
    "scrolled": true
   },
   "outputs": [
    {
     "name": "stdout",
     "output_type": "stream",
     "text": [
      "1\n",
      "{'00': 1968, '10': 2005, '01': 2088, '11': 2131}\n",
      "0.0249330997467041\n"
     ]
    },
    {
     "data": {
      "image/png": "[encoded data removed]",
      "text/plain": [
       "<Figure size 504x360 with 1 Axes>"
      ]
     },
     "execution_count": 425,
     "metadata": {},
     "output_type": "execute_result"
    }
   ],
   "source": [
    "from qiskit import QuantumCircuit, ClassicalRegister, QuantumRegister, execute\n",
    "from qiskit.tools.visualization import plot_histogram, circuit_drawer\n",
    "import math as m\n",
    "from qiskit.visualization import plot_histogram\n",
    "\n",
    "def Oraculo(qc,q):\n",
    "    \n",
    "    \"\"\"for i in range(2):\n",
    "        qc.h(q[i])\n",
    "\n",
    "    \n",
    "    # s em todos qbits\n",
    "    for i in range(2):\n",
    "        qc.s(q[i])\"\"\"\n",
    "\n",
    "    #qc.cx(q[0], q[1]) #duas solucoes\n",
    "    \n",
    "    qc.x(q[0])\n",
    "    qc.x(q[1])\n",
    "    qc.cz(q[0], q[1]) #uma solucao\n",
    "    \n",
    "    #qc.cx(q[0], q[1]) #duas solucoes\n",
    "    \n",
    "    qc.x(q[0])\n",
    "    qc.x(q[1])\n",
    "    \n",
    "    \n",
    "    \"\"\"for i in range(2):\n",
    "        qc.s(q[i])\"\"\"\n",
    "        \n",
    "        \n",
    "    \n",
    "def Inversao(qc,q):\n",
    "    for i in range(2):\n",
    "        qc.h(q[i])\n",
    "        \n",
    "    for i in range(2):\n",
    "        qc.x(q[i])\n",
    "\n",
    "    qc.cz(q[0], q[1]) #equivlente h x h\n",
    "\n",
    "    # Apply X to all bits\n",
    "    for i in range(2):\n",
    "        qc.x(q[i])\n",
    "\n",
    "    # Apply H to all bits\t\t\t\t\n",
    "    for i in range(2):\n",
    "        qc.h(q[i])\n",
    "\n",
    "\n",
    "q = QuantumRegister(2)\n",
    "c = ClassicalRegister(2)\n",
    "qc = QuantumCircuit(q, c)\n",
    "\n",
    "N = 4\n",
    "M = 2\n",
    "\n",
    "iteracoes = m.floor(m.pi *(N/M)**(1/2) / 4 ) \n",
    "for i in range(iteracoes):#\n",
    "    Oraculo(qc, q)\n",
    "    qc.barrier(q)\n",
    "    Inversao(qc,q)\n",
    "    qc.barrier(q)\n",
    "    print(iteracoes)\n",
    "\n",
    "qc.measure(q, c)\n",
    "\n",
    "simulator = Aer.get_backend('qasm_simulator')\n",
    "result = execute(qc, simulator, shots=8192).result()\n",
    "counts = result.get_counts(qc)\n",
    "print(counts)\n",
    "print(result.time_taken)\n",
    "\n",
    "plot_histogram(counts)"
   ]
  },
  {
   "cell_type": "code",
   "execution_count": 361,
   "metadata": {
    "scrolled": false
   },
   "outputs": [
    {
     "name": "stdout",
     "output_type": "stream",
     "text": [
      "least busy backend:  ibmq_ourense\n",
      "Job Status: job has successfully run\n",
      "{'00': 37, '10': 24, '01': 483, '11': 480}\n",
      "8.478020906448364\n"
     ]
    },
    {
     "data": {
      "image/png": "[encoded data removed]",
      "text/plain": [
       "<Figure size 504x360 with 1 Axes>"
      ]
     },
     "execution_count": 361,
     "metadata": {},
     "output_type": "execute_result"
    }
   ],
   "source": [
    "from qiskit.tools.monitor import job_monitor\n",
    "\n",
    "AccountProvider = IBMQ.get_provider(hub='ibm-q', group='open', project='main')\n",
    "AccountProvider.backends()\n",
    "\n",
    "#filters=lambda x: x.configuration().n_qubits <= 5 and not x.configuration().simulator and x.status().operational==True\n",
    "#backend = least_busy(AccountProvider.backends(operational=True))\n",
    "backend = AccountProvider.get_backend(\"ibmq_ourense\")\n",
    "print(\"least busy backend: \", backend)\n",
    "\n",
    "job = execute(qc, backend, shots = 1024, optimization_level=3)\n",
    "\n",
    "job_monitor(job, interval = 2)\n",
    "\n",
    "results = job.result()\n",
    "answer = results.get_counts(qc)\n",
    "print(answer)\n",
    "print(results.time_taken)\n",
    "\n",
    "plot_histogram(answer)\n"
   ]
  },
  {
   "cell_type": "markdown",
   "metadata": {},
   "source": [
    "### 4 Qbits (t = 1, 2, 3)  simulação"
   ]
  },
  {
   "cell_type": "code",
   "execution_count": 19,
   "metadata": {
    "scrolled": true
   },
   "outputs": [
    {
     "name": "stdout",
     "output_type": "stream",
     "text": [
      "2\n",
      "2\n",
      "{'0100': 4, '1100': 4, '0101': 8, '1001': 3, '1011': 4, '0001': 6, '0111': 5, '0011': 467, '1101': 6, '1110': 3, '1111': 3, '0000': 4, '1010': 1, '0110': 5, '1000': 5, '0010': 496}\n",
      "0.1235969066619873\n"
     ]
    },
    {
     "data": {
      "image/png": "[encoded data removed]",
      "text/plain": [
       "<Figure size 504x360 with 1 Axes>"
      ]
     },
     "execution_count": 19,
     "metadata": {},
     "output_type": "execute_result"
    }
   ],
   "source": [
    "from qiskit import QuantumCircuit, ClassicalRegister, QuantumRegister, execute\n",
    "from qiskit.tools.visualization import plot_histogram, circuit_drawer\n",
    "import math as m\n",
    "from qiskit.visualization import plot_histogram\n",
    "\n",
    "#oraculo\n",
    "def Oraculo(qc,qr):\n",
    "    \n",
    "    \n",
    "    #0010\n",
    "    qc.x(qr[0])\n",
    "    qc.x(qr[2])\n",
    "    qc.x(qr[3])\n",
    "\n",
    "    qc.cu1(pi/4, qr[0], qr[3])\n",
    "    qc.cx(qr[0], qr[1])\n",
    "    qc.cu1(-pi/4, qr[1], qr[3])\n",
    "    qc.cx(qr[0], qr[1])\n",
    "    qc.cu1(pi/4, qr[1], qr[3])\n",
    "    qc.cx(qr[1], qr[2])\n",
    "    qc.cu1(-pi/4, qr[2], qr[3])\n",
    "    qc.cx(qr[0], qr[2])\n",
    "    qc.cu1(pi/4, qr[2], qr[3])\n",
    "    qc.cx(qr[1], qr[2])\n",
    "    qc.cu1(-pi/4, qr[2], qr[3])\n",
    "    qc.cx(qr[0], qr[2])\n",
    "    qc.cu1(pi/4, qr[2], qr[3])\n",
    "\n",
    "    qc.x(qr[0])\n",
    "    qc.x(qr[2])\n",
    "    qc.x(qr[3])\n",
    "    \n",
    "    \"\"\"\n",
    "    #0000\n",
    "    qc.x(qr[0])\n",
    "    qc.x(qr[1])\n",
    "    qc.x(qr[2])\n",
    "    qc.x(qr[3])\n",
    "\n",
    "    qc.cu1(pi/4, qr[0], qr[3])\n",
    "    qc.cx(qr[0], qr[1])\n",
    "    qc.cu1(-pi/4, qr[1], qr[3])\n",
    "    qc.cx(qr[0], qr[1])\n",
    "    qc.cu1(pi/4, qr[1], qr[3])\n",
    "    qc.cx(qr[1], qr[2])\n",
    "    qc.cu1(-pi/4, qr[2], qr[3])\n",
    "    qc.cx(qr[0], qr[2])\n",
    "    qc.cu1(pi/4, qr[2], qr[3])\n",
    "    qc.cx(qr[1], qr[2])\n",
    "    qc.cu1(-pi/4, qr[2], qr[3])\n",
    "    qc.cx(qr[0], qr[2])\n",
    "    qc.cu1(pi/4, qr[2], qr[3])\n",
    "\n",
    "    qc.x(qr[0])\n",
    "    qc.x(qr[1])\n",
    "    qc.x(qr[2])\n",
    "    qc.x(qr[3])\"\"\"\n",
    "    \n",
    "    \n",
    "    \n",
    "    #0011\n",
    "    qc.x(qr[2])\n",
    "    qc.x(qr[3])\n",
    "\n",
    "    qc.cu1(pi/4, qr[0], qr[3])\n",
    "    qc.cx(qr[0], qr[1])\n",
    "    qc.cu1(-pi/4, qr[1], qr[3])\n",
    "    qc.cx(qr[0], qr[1])\n",
    "    qc.cu1(pi/4, qr[1], qr[3])\n",
    "    qc.cx(qr[1], qr[2])\n",
    "    qc.cu1(-pi/4, qr[2], qr[3])\n",
    "    qc.cx(qr[0], qr[2])\n",
    "    qc.cu1(pi/4, qr[2], qr[3])\n",
    "    qc.cx(qr[1], qr[2])\n",
    "    qc.cu1(-pi/4, qr[2], qr[3])\n",
    "    qc.cx(qr[0], qr[2])\n",
    "    qc.cu1(pi/4, qr[2], qr[3])\n",
    "\n",
    "\n",
    "    qc.x(qr[2])\n",
    "    qc.x(qr[3])\n",
    "      \n",
    "    \n",
    "    \n",
    "    \n",
    "def Inversao(qc,qr):\n",
    "    #######################\n",
    "    #### Amplification ####\n",
    "    #######################\n",
    "    qc.h(qr[0])\n",
    "    qc.h(qr[1])\n",
    "    qc.h(qr[2])\n",
    "    qc.h(qr[3])\n",
    "    qc.x(qr[0])\n",
    "    qc.x(qr[1])\n",
    "    qc.x(qr[2])\n",
    "    qc.x(qr[3])\n",
    "\n",
    "    ######## cccZ #########    \n",
    "    qc.cu1(pi/4, qr[0], qr[3])\n",
    "    qc.cx(qr[0], qr[1])\n",
    "    qc.cu1(-pi/4, qr[1], qr[3])\n",
    "    qc.cx(qr[0], qr[1])\n",
    "    qc.cu1(pi/4, qr[1], qr[3])\n",
    "    qc.cx(qr[1], qr[2])\n",
    "    qc.cu1(-pi/4, qr[2], qr[3])\n",
    "    qc.cx(qr[0], qr[2])\n",
    "    qc.cu1(pi/4, qr[2], qr[3])\n",
    "    qc.cx(qr[1], qr[2])\n",
    "    qc.cu1(-pi/4, qr[2], qr[3])\n",
    "    qc.cx(qr[0], qr[2])\n",
    "    qc.cu1(pi/4, qr[2], qr[3])\n",
    "    ####### end cccZ #######\n",
    "    \n",
    "    \n",
    "    qc.x(qr[0])\n",
    "    qc.x(qr[1])\n",
    "    qc.x(qr[2])\n",
    "    qc.x(qr[3])\n",
    "    qc.h(qr[0])\n",
    "    qc.h(qr[1])\n",
    "    qc.h(qr[2])\n",
    "    qc.h(qr[3])\n",
    "    \n",
    "pi = m.pi\n",
    "\n",
    "qr = QuantumRegister(4)\n",
    "cr = ClassicalRegister(4)\n",
    "qc = QuantumCircuit(qr,cr)\n",
    "shots = 1024\n",
    "\n",
    "qc.h(qr[0])\n",
    "qc.h(qr[1])\n",
    "qc.h(qr[2])\n",
    "qc.h(qr[3])\n",
    "\n",
    "N = 16\n",
    "M = 2\n",
    "\n",
    "iteracoes = m.floor(m.pi *(N/M)**(1/2) / 4 ) \n",
    "for i in range(iteracoes):#\n",
    "    Oraculo(qc, qr)\n",
    "    qc.barrier(qr)\n",
    "    Inversao(qc,qr)\n",
    "    qc.barrier(qr)\n",
    "    print(iteracoes)\n",
    "\n",
    "########################\n",
    "####### Measure ########\n",
    "########################\n",
    "qc.barrier(qr)\n",
    "qc.measure(qr[0], cr[0])\n",
    "qc.measure(qr[1], cr[1])\n",
    "qc.measure(qr[2], cr[2])\n",
    "qc.measure(qr[3], cr[3])\n",
    "\n",
    "simulator = Aer.get_backend('qasm_simulator')\n",
    "result = execute(qc, simulator, shots = 1024,optimization_level=3).result()\n",
    "counts = result.get_counts(qc)\n",
    "\n",
    "print(counts)\n",
    "print(result.time_taken)\n",
    "\n",
    "plot_histogram(counts, title='O indíce procurado')"
   ]
  },
  {
   "cell_type": "code",
   "execution_count": 9,
   "metadata": {},
   "outputs": [
    {
     "name": "stdout",
     "output_type": "stream",
     "text": [
      "least busy backend:  ibmq_london\n",
      "Job Status: job has successfully run\n",
      "{'0100': 87, '1101': 73, '1100': 90, '0111': 48, '0010': 65, '0101': 66, '1011': 41, '0110': 72, '1000': 73, '1110': 54, '1001': 49, '1010': 76, '0011': 44, '1111': 45, '0001': 63, '0000': 78}\n",
      "10.084610223770142\n"
     ]
    },
    {
     "data": {
      "image/png": "[encoded data removed]",
      "text/plain": [
       "<Figure size 504x360 with 1 Axes>"
      ]
     },
     "execution_count": 9,
     "metadata": {},
     "output_type": "execute_result"
    }
   ],
   "source": [
    "IBMQ.get_provider(hub='ibm-q')\n",
    "#filters=lambda x: x.configuration().n_qubits <= 5 and not x.configuration().simulator and x.status().\n",
    "#backend = least_busy(AccountProvider.backends(operational=True))\n",
    "backend = AccountProvider.get_backend(\"ibmq_london\")\n",
    "print(\"least busy backend: \", backend)\n",
    "\n",
    "job = execute(qc, backend, shots = 1024, optimization_level=3)\n",
    "\n",
    "job_monitor(job, interval = 2)\n",
    "\n",
    "results = job.result()\n",
    "answer = results.get_counts(qc)\n",
    "print(answer)\n",
    "print(results.time_taken)\n",
    "\n",
    "plot_histogram(answer)\n"
   ]
  },
  {
   "cell_type": "markdown",
   "metadata": {},
   "source": [
    "### Otimizações\n"
   ]
  },
  {
   "cell_type": "markdown",
   "metadata": {},
   "source": [
    "### Simulação II"
   ]
  },
  {
   "cell_type": "markdown",
   "metadata": {},
   "source": [
    "### Conclusão"
   ]
  },
  {
   "cell_type": "markdown",
   "metadata": {},
   "source": [
    "### Referências\n",
    "\n",
    "Tight bounds on quantum searching\n",
    "https://arxiv.org/abs/quant-ph/9605034\n",
    "\n",
    "A quantum algorithm for finding the minimum\n",
    "https://arxiv.org/pdf/quant-ph/9607014.pdf\n",
    "\n",
    "Quantum Mechanics helps in searching for a needle in a haystack\n",
    "https://arxiv.org/pdf/quant-ph/9706033.pdf"
   ]
  },
  {
   "cell_type": "code",
   "execution_count": null,
   "metadata": {},
   "outputs": [],
   "source": []
  }
 ],
 "metadata": {
  "kernelspec": {
   "display_name": "Python 3",
   "language": "python",
   "name": "python3"
  },
  "language_info": {
   "codemirror_mode": {
    "name": "ipython",
    "version": 3
   },
   "file_extension": ".py",
   "mimetype": "text/x-python",
   "name": "python",
   "nbconvert_exporter": "python",
   "pygments_lexer": "ipython3",
   "version": "3.7.4"
  }
 },
 "nbformat": 4,
 "nbformat_minor": 2
}
