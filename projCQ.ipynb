{
 "cells": [
  {
   "cell_type": "markdown",
   "metadata": {},
   "source": [
    "## Projeto Computação Quântica 2019.2\n",
    "Centro de Informática - UFPE\n",
    "\n",
    "Aluna: Débora Fortunato Dias (dfd2), Jerônimo"
   ]
  },
  {
   "cell_type": "markdown",
   "metadata": {},
   "source": [
    "### Algoritmo de Grover e Otimizações\n",
    "\n",
    " \n"
   ]
  },
  {
   "cell_type": "markdown",
   "metadata": {},
   "source": [
    "#### Roteiro\n",
    "\n",
    "- Algoritmo de Grover\n",
    "- Simulação I\n",
    "- Otimizações\n",
    "- Simulação II\n",
    "- Conclusão\n",
    "- Referências"
   ]
  },
  {
   "cell_type": "markdown",
   "metadata": {},
   "source": [
    "### Algoritmo de Grover\n",
    "\n",
    "Dado um espaço de N elementos, com M sendo o conjunto de soluções buscadas. Achar as soluções em $\\sqrt{\\frac{N}{M}}$ iterações.\n",
    "\n",
    "- Inicialização\n",
    "\n",
    "Todos qbits são iniciados em superposição, seus estados têm amplitude $\\sqrt{N}$.\n",
    "\n",
    "- Oráculo\n",
    "\n",
    "O oráculo $O$ marca o estado $x_{0}$ que satisfaz a condição $f(x_{0}) = 1$ através de uma mudança de fase. Todos os outros estados permanecem inalterados. A operação tem o efeito de inverter a amplitude do estado marcado.\n",
    "\n",
    "- Amplificação\n",
    "\n",
    "Essa fase realiza a amplificação de amplitudes pela inversão sobre a média. Como a amplitude do estado alvo foi invertida enquanto os outros estados mantiveram suas amplitudes originais (fase anterior), essa mudança faz com que a amplitude do estado alvo aumente enquanto os outros diminuem.\n",
    "\n",
    "- Medição\n",
    "\n",
    "Os qbits são colapsados em um valor clássico.\n"
   ]
  },
  {
   "cell_type": "markdown",
   "metadata": {},
   "source": [
    "##### Inicialização"
   ]
  },
  {
   "cell_type": "code",
   "execution_count": 285,
   "metadata": {},
   "outputs": [
    {
     "data": {
      "text/plain": [
       "<qiskit.circuit.instructionset.InstructionSet at 0x24e05c118c8>"
      ]
     },
     "execution_count": 285,
     "metadata": {},
     "output_type": "execute_result"
    }
   ],
   "source": [
    "N = 3\n",
    "\n",
    "q = QuantumRegister(4,\"q\") #3 registradores e 1 ancilla\n",
    "c = ClassicalRegister(3,\"c\")\n",
    "\n",
    "circuit = QuantumCircuit(q,c)\n",
    "\n",
    "circuit.h(q[0:3]) #hadamard"
   ]
  },
  {
   "cell_type": "markdown",
   "metadata": {},
   "source": [
    "##### Oráculo\n",
    "\n",
    "A ação do oráculo marca essencialmente a solução. Então, precisamos de algo que execute a operação abaixo.\n",
    "\n",
    "- x é o índice do registrador\n",
    "- O é um operador unitário\n",
    "- f(x) é uma função de x que inverte q caso ele seja solução\n",
    "- $\\oplus$ é a soma módulo 2\n",
    "\n",
    "O oráculo pode ser representado por:\n",
    "\n",
    " $$ \\left| x \\right\\rangle \\left| q \\right\\rangle \\xrightarrow{O} \\left| x \\right\\rangle \\left| q \\oplus f(x) \\right\\rangle $$\n",
    " \n",
    "\n",
    " Ou ainda mais simplificadamente:\n",
    " \n",
    " $$ \\left| x \\right\\rangle \\xrightarrow{O} (-1)^{f(x)} \\left| x \\right\\rangle $$"
   ]
  },
  {
   "cell_type": "code",
   "execution_count": 282,
   "metadata": {},
   "outputs": [
    {
     "data": {
      "text/plain": [
       "<qiskit.circuit.instructionset.InstructionSet at 0x24e05ed38c8>"
      ]
     },
     "execution_count": 282,
     "metadata": {},
     "output_type": "execute_result"
    }
   ],
   "source": [
    "    circuit.x(q[0])\n",
    "    circuit.x(q[1])\n",
    "    \n",
    "    circuit.ccx(q[0], q[1], q[3]) #marca 000 e 001\n",
    "    \n",
    "    circuit.x(q[0])\n",
    "    circuit.x(q[1])"
   ]
  },
  {
   "cell_type": "markdown",
   "metadata": {},
   "source": [
    "##### Amplificação (Inversão sobre a média)\n",
    "\n",
    "Um passo importante do algoritmo é ampliar a probabilidade de observação. Esta etapa executa essencialmente estas operações principais:\n",
    "\n",
    "- Aplicar H a todos os qbits\n",
    "- Aplicar uma mudança de fase condicional\n",
    "- Aplique H a todos os qbits novamente"
   ]
  },
  {
   "cell_type": "code",
   "execution_count": 287,
   "metadata": {},
   "outputs": [
    {
     "data": {
      "text/plain": [
       "<qiskit.circuit.instructionset.InstructionSet at 0x24e05f4ed88>"
      ]
     },
     "execution_count": 287,
     "metadata": {},
     "output_type": "execute_result"
    }
   ],
   "source": [
    "    circuit.h(q[0:3])\n",
    "    circuit.x(q[0:3])\n",
    "    circuit.mct(q[0:3], q[3], None, mode='advanced') \n",
    "    circuit.x(q[0:3])\n",
    "    circuit.h(q[0:3])"
   ]
  },
  {
   "cell_type": "markdown",
   "metadata": {},
   "source": [
    "### Implementação"
   ]
  },
  {
   "cell_type": "code",
   "execution_count": 286,
   "metadata": {
    "scrolled": true
   },
   "outputs": [],
   "source": [
    "from qiskit import QuantumCircuit, QuantumRegister, ClassicalRegister, execute, Aer\n",
    "import math as m\n",
    "from qiskit.visualization import plot_histogram\n",
    "\n",
    "def Oraculo(circuit, q):\n",
    "    circuit.x(q[0])\n",
    "    circuit.x(q[1])\n",
    "    \n",
    "    #circuit.mct(q[0:3], q[3], None, mode='advanced') #usar para uma solucao\n",
    "    circuit.ccx(q[0], q[1], q[3]) #usar para duas solucoes\n",
    "    \n",
    "    circuit.x(q[0])\n",
    "    circuit.x(q[1])\n",
    "    \n",
    "    \n",
    "def InversaoSobreMedia(circuit, q):\n",
    "    circuit.h(q[0:3])\n",
    "    circuit.x(q[0:3])\n",
    "    circuit.mct(q[0:3], q[3], None, mode='advanced') \n",
    "    circuit.x(q[0:3])\n",
    "    circuit.h(q[0:3])\n",
    "\n",
    "q = QuantumRegister(4,\"q\")\n",
    "c = ClassicalRegister(3,\"c\")\n",
    "\n",
    "circuit = QuantumCircuit(q,c)\n",
    "\n",
    "circuit.h(q[0:3])\n",
    "circuit.x(q[3])\n",
    "circuit.h(q[3])\n",
    "\n",
    "circuit.barrier(q)\n",
    "\n",
    "N = 8\n",
    "M = 2\n",
    "\n",
    "iteracoes = m.floor(m.pi *(N/M)**(1/2) / 4 ) \n",
    "for i in range(iteracoes):#\n",
    "    Oraculo(circuit, q)\n",
    "    circuit.barrier(q)\n",
    "    InversaoSobreMedia(circuit,q)\n",
    "    circuit.barrier(q)\n",
    "    \n",
    "    \n",
    "#circuit.barrier(q)\n"
   ]
  },
  {
   "cell_type": "markdown",
   "metadata": {},
   "source": [
    "### Simulação I"
   ]
  },
  {
   "cell_type": "code",
   "execution_count": 277,
   "metadata": {},
   "outputs": [
    {
     "data": {
      "image/png": "[encoded data removed]",
      "text/plain": [
       "<Figure size 504x360 with 1 Axes>"
      ]
     },
     "execution_count": 277,
     "metadata": {},
     "output_type": "execute_result"
    }
   ],
   "source": [
    "circuit.measure(q[0:3], c[0:3])\n",
    "simulator = Aer.get_backend('qasm_simulator')\n",
    "job = execute(circuit, simulator)\n",
    "result = job.result()\n",
    "counts = result.get_counts(circuit)\n",
    "\n",
    "\n",
    "plot_histogram(counts)"
   ]
  },
  {
   "cell_type": "code",
   "execution_count": 197,
   "metadata": {},
   "outputs": [],
   "source": [
    "\n",
    "#circuit.draw(output='mpl') "
   ]
  },
  {
   "cell_type": "markdown",
   "metadata": {},
   "source": [
    "### Otimizações\n"
   ]
  },
  {
   "cell_type": "markdown",
   "metadata": {},
   "source": [
    "### Simulação II"
   ]
  },
  {
   "cell_type": "markdown",
   "metadata": {},
   "source": [
    "### Conclusão"
   ]
  },
  {
   "cell_type": "markdown",
   "metadata": {},
   "source": [
    "### Referências\n",
    "\n",
    "Tight bounds on quantum searching\n",
    "https://arxiv.org/abs/quant-ph/9605034\n",
    "\n",
    "A quantum algorithm for finding the minimum\n",
    "https://arxiv.org/pdf/quant-ph/9607014.pdf\n",
    "\n",
    "Quantum Mechanics helps in searching for a needle in a haystack\n",
    "https://arxiv.org/pdf/quant-ph/9706033.pdf"
   ]
  },
  {
   "cell_type": "code",
   "execution_count": null,
   "metadata": {},
   "outputs": [],
   "source": []
  }
 ],
 "metadata": {
  "kernelspec": {
   "display_name": "Python 3",
   "language": "python",
   "name": "python3"
  },
  "language_info": {
   "codemirror_mode": {
    "name": "ipython",
    "version": 3
   },
   "file_extension": ".py",
   "mimetype": "text/x-python",
   "name": "python",
   "nbconvert_exporter": "python",
   "pygments_lexer": "ipython3",
   "version": "3.7.4"
  }
 },
 "nbformat": 4,
 "nbformat_minor": 2
}
